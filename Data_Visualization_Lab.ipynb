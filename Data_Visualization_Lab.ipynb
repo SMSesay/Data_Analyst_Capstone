{
  "nbformat": 4,
  "nbformat_minor": 0,
  "metadata": {
    "kernelspec": {
      "name": "python3",
      "display_name": "Python 3.8",
      "language": "python"
    },
    "language_info": {
      "name": "python",
      "version": "3.8.11",
      "mimetype": "text/x-python",
      "codemirror_mode": {
        "name": "ipython",
        "version": 3
      },
      "pygments_lexer": "ipython3",
      "nbconvert_exporter": "python",
      "file_extension": ".py"
    },
    "colab": {
      "name": "Data Visualization Lab.ipynb",
      "provenance": [],
      "collapsed_sections": []
    }
  },
  "cells": [
    {
      "cell_type": "markdown",
      "metadata": {
        "id": "7RucSk2_iyw9"
      },
      "source": [
        "<center>\n",
        "    <img src=\"https://gitlab.com/ibm/skills-network/courses/placeholder101/-/raw/master/labs/module%201/images/IDSNlogo.png\" width=\"300\" alt=\"cognitiveclass.ai logo\"  />\n",
        "</center>\n"
      ]
    },
    {
      "cell_type": "markdown",
      "metadata": {
        "id": "KwrEpgCdiyxF"
      },
      "source": [
        "# **Data Visualization Lab**\n"
      ]
    },
    {
      "cell_type": "markdown",
      "metadata": {
        "id": "O8uq15VYiyxG"
      },
      "source": [
        "Estimated time needed: **45 to 60** minutes\n"
      ]
    },
    {
      "cell_type": "markdown",
      "metadata": {
        "id": "6d3qWS_kiyxG"
      },
      "source": [
        "In this assignment you will be focusing on the visualization of data.\n",
        "\n",
        "The data set will be presented to you in the form of a RDBMS.\n",
        "\n",
        "You will have to use SQL queries to extract the data.\n"
      ]
    },
    {
      "cell_type": "markdown",
      "metadata": {
        "id": "xmcssZrniyxH"
      },
      "source": [
        "## Objectives\n"
      ]
    },
    {
      "cell_type": "markdown",
      "metadata": {
        "id": "uVLXKGjriyxI"
      },
      "source": [
        "In this lab you will perform the following:\n"
      ]
    },
    {
      "cell_type": "markdown",
      "metadata": {
        "id": "4Heolpi-iyxJ"
      },
      "source": [
        "*   Visualize the distribution of data.\n",
        "\n",
        "*   Visualize the relationship between two features.\n",
        "\n",
        "*   Visualize composition of data.\n",
        "\n",
        "*   Visualize comparison of data.\n"
      ]
    },
    {
      "cell_type": "markdown",
      "metadata": {
        "id": "XQvKiPvbiyxK"
      },
      "source": [
        "<hr>\n"
      ]
    },
    {
      "cell_type": "markdown",
      "metadata": {
        "id": "p3mwYUwKiyxL"
      },
      "source": [
        "## Demo: How to work with database\n"
      ]
    },
    {
      "cell_type": "markdown",
      "metadata": {
        "id": "V0ooGgdiiyxM"
      },
      "source": [
        "Download database file.\n"
      ]
    },
    {
      "cell_type": "code",
      "metadata": {
        "colab": {
          "base_uri": "https://localhost:8080/"
        },
        "id": "eAMQmVokiyxN",
        "outputId": "a1fdde78-65c3-462d-8306-e1ca66b99aed"
      },
      "source": [
        "!pip install wget\n",
        "!wget https://cf-courses-data.s3.us.cloud-object-storage.appdomain.cloud/IBM-DA0321EN-SkillsNetwork/LargeData/m4_survey_data.sqlite\n"
      ],
      "execution_count": 2,
      "outputs": [
        {
          "output_type": "stream",
          "name": "stdout",
          "text": [
            "Collecting wget\n",
            "  Downloading wget-3.2.zip (10 kB)\n",
            "Building wheels for collected packages: wget\n",
            "  Building wheel for wget (setup.py) ... \u001b[?25l\u001b[?25hdone\n",
            "  Created wheel for wget: filename=wget-3.2-py3-none-any.whl size=9672 sha256=a3cfed7981db9542d81d10cc26f78ccdb053cb11a83a86b7eb912dd4a5e8f3ac\n",
            "  Stored in directory: /root/.cache/pip/wheels/a1/b6/7c/0e63e34eb06634181c63adacca38b79ff8f35c37e3c13e3c02\n",
            "Successfully built wget\n",
            "Installing collected packages: wget\n",
            "Successfully installed wget-3.2\n",
            "--2021-10-14 15:16:27--  https://cf-courses-data.s3.us.cloud-object-storage.appdomain.cloud/IBM-DA0321EN-SkillsNetwork/LargeData/m4_survey_data.sqlite\n",
            "Resolving cf-courses-data.s3.us.cloud-object-storage.appdomain.cloud (cf-courses-data.s3.us.cloud-object-storage.appdomain.cloud)... 169.45.118.108\n",
            "Connecting to cf-courses-data.s3.us.cloud-object-storage.appdomain.cloud (cf-courses-data.s3.us.cloud-object-storage.appdomain.cloud)|169.45.118.108|:443... connected.\n",
            "HTTP request sent, awaiting response... 200 OK\n",
            "Length: 36679680 (35M) [application/octet-stream]\n",
            "Saving to: ‘m4_survey_data.sqlite’\n",
            "\n",
            "m4_survey_data.sqli 100%[===================>]  34.98M  9.70MB/s    in 3.6s    \n",
            "\n",
            "2021-10-14 15:16:33 (9.70 MB/s) - ‘m4_survey_data.sqlite’ saved [36679680/36679680]\n",
            "\n"
          ]
        }
      ]
    },
    {
      "cell_type": "markdown",
      "metadata": {
        "id": "9Pjs0g4ZiyxP"
      },
      "source": [
        "Connect to the database.\n"
      ]
    },
    {
      "cell_type": "code",
      "metadata": {
        "id": "g8CREut2iyxQ"
      },
      "source": [
        "import sqlite3\n",
        "conn = sqlite3.connect(\"m4_survey_data.sqlite\") # open a database connection"
      ],
      "execution_count": 3,
      "outputs": []
    },
    {
      "cell_type": "markdown",
      "metadata": {
        "id": "kp2I9tQ5iyxQ"
      },
      "source": [
        "Import pandas module.\n"
      ]
    },
    {
      "cell_type": "code",
      "metadata": {
        "id": "lCfPt5qpiyxR"
      },
      "source": [
        "import pandas as pd"
      ],
      "execution_count": 4,
      "outputs": []
    },
    {
      "cell_type": "markdown",
      "metadata": {
        "id": "bqObrLUJiyxR"
      },
      "source": [
        "## Demo: How to run an sql query\n"
      ]
    },
    {
      "cell_type": "code",
      "metadata": {
        "colab": {
          "base_uri": "https://localhost:8080/",
          "height": 81
        },
        "id": "AHZLhW4RiyxR",
        "outputId": "164312ca-9f4c-4648-e484-1409d9803df2"
      },
      "source": [
        "# print how many rows are there in the table named 'master'\n",
        "QUERY = \"\"\"\n",
        "SELECT COUNT(*)\n",
        "FROM master\n",
        "\"\"\"\n",
        "\n",
        "# the read_sql_query runs the sql query and returns the data as a dataframe\n",
        "df = pd.read_sql_query(QUERY,conn)\n",
        "df.head()"
      ],
      "execution_count": 5,
      "outputs": [
        {
          "output_type": "execute_result",
          "data": {
            "text/html": [
              "<div>\n",
              "<style scoped>\n",
              "    .dataframe tbody tr th:only-of-type {\n",
              "        vertical-align: middle;\n",
              "    }\n",
              "\n",
              "    .dataframe tbody tr th {\n",
              "        vertical-align: top;\n",
              "    }\n",
              "\n",
              "    .dataframe thead th {\n",
              "        text-align: right;\n",
              "    }\n",
              "</style>\n",
              "<table border=\"1\" class=\"dataframe\">\n",
              "  <thead>\n",
              "    <tr style=\"text-align: right;\">\n",
              "      <th></th>\n",
              "      <th>COUNT(*)</th>\n",
              "    </tr>\n",
              "  </thead>\n",
              "  <tbody>\n",
              "    <tr>\n",
              "      <th>0</th>\n",
              "      <td>11398</td>\n",
              "    </tr>\n",
              "  </tbody>\n",
              "</table>\n",
              "</div>"
            ],
            "text/plain": [
              "   COUNT(*)\n",
              "0     11398"
            ]
          },
          "metadata": {},
          "execution_count": 5
        }
      ]
    },
    {
      "cell_type": "markdown",
      "metadata": {
        "id": "irCn868UiyxS"
      },
      "source": [
        "## Demo: How to list all tables\n"
      ]
    },
    {
      "cell_type": "code",
      "metadata": {
        "scrolled": true,
        "colab": {
          "base_uri": "https://localhost:8080/",
          "height": 802
        },
        "id": "7WjDdm2yiyxS",
        "outputId": "38845690-2361-4e66-c3be-96f9f058687a"
      },
      "source": [
        "# print all the tables names in the database\n",
        "QUERY = \"\"\"\n",
        "SELECT name as Table_Name FROM\n",
        "sqlite_master WHERE\n",
        "type = 'table'\n",
        "\"\"\"\n",
        "# the read_sql_query runs the sql query and returns the data as a dataframe\n",
        "pd.read_sql_query(QUERY,conn)\n"
      ],
      "execution_count": 6,
      "outputs": [
        {
          "output_type": "execute_result",
          "data": {
            "text/html": [
              "<div>\n",
              "<style scoped>\n",
              "    .dataframe tbody tr th:only-of-type {\n",
              "        vertical-align: middle;\n",
              "    }\n",
              "\n",
              "    .dataframe tbody tr th {\n",
              "        vertical-align: top;\n",
              "    }\n",
              "\n",
              "    .dataframe thead th {\n",
              "        text-align: right;\n",
              "    }\n",
              "</style>\n",
              "<table border=\"1\" class=\"dataframe\">\n",
              "  <thead>\n",
              "    <tr style=\"text-align: right;\">\n",
              "      <th></th>\n",
              "      <th>Table_Name</th>\n",
              "    </tr>\n",
              "  </thead>\n",
              "  <tbody>\n",
              "    <tr>\n",
              "      <th>0</th>\n",
              "      <td>EduOther</td>\n",
              "    </tr>\n",
              "    <tr>\n",
              "      <th>1</th>\n",
              "      <td>DevType</td>\n",
              "    </tr>\n",
              "    <tr>\n",
              "      <th>2</th>\n",
              "      <td>LastInt</td>\n",
              "    </tr>\n",
              "    <tr>\n",
              "      <th>3</th>\n",
              "      <td>JobFactors</td>\n",
              "    </tr>\n",
              "    <tr>\n",
              "      <th>4</th>\n",
              "      <td>WorkPlan</td>\n",
              "    </tr>\n",
              "    <tr>\n",
              "      <th>5</th>\n",
              "      <td>WorkChallenge</td>\n",
              "    </tr>\n",
              "    <tr>\n",
              "      <th>6</th>\n",
              "      <td>LanguageWorkedWith</td>\n",
              "    </tr>\n",
              "    <tr>\n",
              "      <th>7</th>\n",
              "      <td>LanguageDesireNextYear</td>\n",
              "    </tr>\n",
              "    <tr>\n",
              "      <th>8</th>\n",
              "      <td>DatabaseWorkedWith</td>\n",
              "    </tr>\n",
              "    <tr>\n",
              "      <th>9</th>\n",
              "      <td>DatabaseDesireNextYear</td>\n",
              "    </tr>\n",
              "    <tr>\n",
              "      <th>10</th>\n",
              "      <td>PlatformWorkedWith</td>\n",
              "    </tr>\n",
              "    <tr>\n",
              "      <th>11</th>\n",
              "      <td>PlatformDesireNextYear</td>\n",
              "    </tr>\n",
              "    <tr>\n",
              "      <th>12</th>\n",
              "      <td>WebFrameWorkedWith</td>\n",
              "    </tr>\n",
              "    <tr>\n",
              "      <th>13</th>\n",
              "      <td>WebFrameDesireNextYear</td>\n",
              "    </tr>\n",
              "    <tr>\n",
              "      <th>14</th>\n",
              "      <td>MiscTechWorkedWith</td>\n",
              "    </tr>\n",
              "    <tr>\n",
              "      <th>15</th>\n",
              "      <td>MiscTechDesireNextYear</td>\n",
              "    </tr>\n",
              "    <tr>\n",
              "      <th>16</th>\n",
              "      <td>DevEnviron</td>\n",
              "    </tr>\n",
              "    <tr>\n",
              "      <th>17</th>\n",
              "      <td>Containers</td>\n",
              "    </tr>\n",
              "    <tr>\n",
              "      <th>18</th>\n",
              "      <td>SOVisitTo</td>\n",
              "    </tr>\n",
              "    <tr>\n",
              "      <th>19</th>\n",
              "      <td>SONewContent</td>\n",
              "    </tr>\n",
              "    <tr>\n",
              "      <th>20</th>\n",
              "      <td>Gender</td>\n",
              "    </tr>\n",
              "    <tr>\n",
              "      <th>21</th>\n",
              "      <td>Sexuality</td>\n",
              "    </tr>\n",
              "    <tr>\n",
              "      <th>22</th>\n",
              "      <td>Ethnicity</td>\n",
              "    </tr>\n",
              "    <tr>\n",
              "      <th>23</th>\n",
              "      <td>master</td>\n",
              "    </tr>\n",
              "  </tbody>\n",
              "</table>\n",
              "</div>"
            ],
            "text/plain": [
              "                Table_Name\n",
              "0                 EduOther\n",
              "1                  DevType\n",
              "2                  LastInt\n",
              "3               JobFactors\n",
              "4                 WorkPlan\n",
              "5            WorkChallenge\n",
              "6       LanguageWorkedWith\n",
              "7   LanguageDesireNextYear\n",
              "8       DatabaseWorkedWith\n",
              "9   DatabaseDesireNextYear\n",
              "10      PlatformWorkedWith\n",
              "11  PlatformDesireNextYear\n",
              "12      WebFrameWorkedWith\n",
              "13  WebFrameDesireNextYear\n",
              "14      MiscTechWorkedWith\n",
              "15  MiscTechDesireNextYear\n",
              "16              DevEnviron\n",
              "17              Containers\n",
              "18               SOVisitTo\n",
              "19            SONewContent\n",
              "20                  Gender\n",
              "21               Sexuality\n",
              "22               Ethnicity\n",
              "23                  master"
            ]
          },
          "metadata": {},
          "execution_count": 6
        }
      ]
    },
    {
      "cell_type": "markdown",
      "metadata": {
        "id": "8OatiPAliyxT"
      },
      "source": [
        "## Demo: How to run a group by query\n"
      ]
    },
    {
      "cell_type": "code",
      "metadata": {
        "colab": {
          "base_uri": "https://localhost:8080/",
          "height": 1000
        },
        "id": "8NVTZbyDiyxT",
        "outputId": "d66423a0-282f-4745-c5de-ed18f9429406"
      },
      "source": [
        "QUERY = \"\"\"\n",
        "SELECT Age,COUNT(*) as count\n",
        "FROM master\n",
        "group by age\n",
        "order by age\n",
        "\"\"\"\n",
        "pd.read_sql_query(QUERY,conn)"
      ],
      "execution_count": 7,
      "outputs": [
        {
          "output_type": "execute_result",
          "data": {
            "text/html": [
              "<div>\n",
              "<style scoped>\n",
              "    .dataframe tbody tr th:only-of-type {\n",
              "        vertical-align: middle;\n",
              "    }\n",
              "\n",
              "    .dataframe tbody tr th {\n",
              "        vertical-align: top;\n",
              "    }\n",
              "\n",
              "    .dataframe thead th {\n",
              "        text-align: right;\n",
              "    }\n",
              "</style>\n",
              "<table border=\"1\" class=\"dataframe\">\n",
              "  <thead>\n",
              "    <tr style=\"text-align: right;\">\n",
              "      <th></th>\n",
              "      <th>Age</th>\n",
              "      <th>count</th>\n",
              "    </tr>\n",
              "  </thead>\n",
              "  <tbody>\n",
              "    <tr>\n",
              "      <th>0</th>\n",
              "      <td>NaN</td>\n",
              "      <td>287</td>\n",
              "    </tr>\n",
              "    <tr>\n",
              "      <th>1</th>\n",
              "      <td>16.0</td>\n",
              "      <td>3</td>\n",
              "    </tr>\n",
              "    <tr>\n",
              "      <th>2</th>\n",
              "      <td>17.0</td>\n",
              "      <td>6</td>\n",
              "    </tr>\n",
              "    <tr>\n",
              "      <th>3</th>\n",
              "      <td>18.0</td>\n",
              "      <td>29</td>\n",
              "    </tr>\n",
              "    <tr>\n",
              "      <th>4</th>\n",
              "      <td>19.0</td>\n",
              "      <td>78</td>\n",
              "    </tr>\n",
              "    <tr>\n",
              "      <th>5</th>\n",
              "      <td>20.0</td>\n",
              "      <td>109</td>\n",
              "    </tr>\n",
              "    <tr>\n",
              "      <th>6</th>\n",
              "      <td>21.0</td>\n",
              "      <td>203</td>\n",
              "    </tr>\n",
              "    <tr>\n",
              "      <th>7</th>\n",
              "      <td>22.0</td>\n",
              "      <td>406</td>\n",
              "    </tr>\n",
              "    <tr>\n",
              "      <th>8</th>\n",
              "      <td>23.0</td>\n",
              "      <td>581</td>\n",
              "    </tr>\n",
              "    <tr>\n",
              "      <th>9</th>\n",
              "      <td>24.0</td>\n",
              "      <td>679</td>\n",
              "    </tr>\n",
              "    <tr>\n",
              "      <th>10</th>\n",
              "      <td>25.0</td>\n",
              "      <td>738</td>\n",
              "    </tr>\n",
              "    <tr>\n",
              "      <th>11</th>\n",
              "      <td>26.0</td>\n",
              "      <td>720</td>\n",
              "    </tr>\n",
              "    <tr>\n",
              "      <th>12</th>\n",
              "      <td>27.0</td>\n",
              "      <td>724</td>\n",
              "    </tr>\n",
              "    <tr>\n",
              "      <th>13</th>\n",
              "      <td>28.0</td>\n",
              "      <td>787</td>\n",
              "    </tr>\n",
              "    <tr>\n",
              "      <th>14</th>\n",
              "      <td>29.0</td>\n",
              "      <td>697</td>\n",
              "    </tr>\n",
              "    <tr>\n",
              "      <th>15</th>\n",
              "      <td>30.0</td>\n",
              "      <td>651</td>\n",
              "    </tr>\n",
              "    <tr>\n",
              "      <th>16</th>\n",
              "      <td>31.0</td>\n",
              "      <td>531</td>\n",
              "    </tr>\n",
              "    <tr>\n",
              "      <th>17</th>\n",
              "      <td>32.0</td>\n",
              "      <td>489</td>\n",
              "    </tr>\n",
              "    <tr>\n",
              "      <th>18</th>\n",
              "      <td>33.0</td>\n",
              "      <td>483</td>\n",
              "    </tr>\n",
              "    <tr>\n",
              "      <th>19</th>\n",
              "      <td>34.0</td>\n",
              "      <td>395</td>\n",
              "    </tr>\n",
              "    <tr>\n",
              "      <th>20</th>\n",
              "      <td>35.0</td>\n",
              "      <td>393</td>\n",
              "    </tr>\n",
              "    <tr>\n",
              "      <th>21</th>\n",
              "      <td>36.0</td>\n",
              "      <td>308</td>\n",
              "    </tr>\n",
              "    <tr>\n",
              "      <th>22</th>\n",
              "      <td>37.0</td>\n",
              "      <td>280</td>\n",
              "    </tr>\n",
              "    <tr>\n",
              "      <th>23</th>\n",
              "      <td>38.0</td>\n",
              "      <td>279</td>\n",
              "    </tr>\n",
              "    <tr>\n",
              "      <th>24</th>\n",
              "      <td>39.0</td>\n",
              "      <td>232</td>\n",
              "    </tr>\n",
              "    <tr>\n",
              "      <th>25</th>\n",
              "      <td>40.0</td>\n",
              "      <td>187</td>\n",
              "    </tr>\n",
              "    <tr>\n",
              "      <th>26</th>\n",
              "      <td>41.0</td>\n",
              "      <td>136</td>\n",
              "    </tr>\n",
              "    <tr>\n",
              "      <th>27</th>\n",
              "      <td>42.0</td>\n",
              "      <td>162</td>\n",
              "    </tr>\n",
              "    <tr>\n",
              "      <th>28</th>\n",
              "      <td>43.0</td>\n",
              "      <td>100</td>\n",
              "    </tr>\n",
              "    <tr>\n",
              "      <th>29</th>\n",
              "      <td>44.0</td>\n",
              "      <td>95</td>\n",
              "    </tr>\n",
              "    <tr>\n",
              "      <th>30</th>\n",
              "      <td>45.0</td>\n",
              "      <td>85</td>\n",
              "    </tr>\n",
              "    <tr>\n",
              "      <th>31</th>\n",
              "      <td>46.0</td>\n",
              "      <td>66</td>\n",
              "    </tr>\n",
              "    <tr>\n",
              "      <th>32</th>\n",
              "      <td>47.0</td>\n",
              "      <td>68</td>\n",
              "    </tr>\n",
              "    <tr>\n",
              "      <th>33</th>\n",
              "      <td>48.0</td>\n",
              "      <td>64</td>\n",
              "    </tr>\n",
              "    <tr>\n",
              "      <th>34</th>\n",
              "      <td>49.0</td>\n",
              "      <td>66</td>\n",
              "    </tr>\n",
              "    <tr>\n",
              "      <th>35</th>\n",
              "      <td>50.0</td>\n",
              "      <td>57</td>\n",
              "    </tr>\n",
              "    <tr>\n",
              "      <th>36</th>\n",
              "      <td>51.0</td>\n",
              "      <td>29</td>\n",
              "    </tr>\n",
              "    <tr>\n",
              "      <th>37</th>\n",
              "      <td>52.0</td>\n",
              "      <td>41</td>\n",
              "    </tr>\n",
              "    <tr>\n",
              "      <th>38</th>\n",
              "      <td>53.0</td>\n",
              "      <td>32</td>\n",
              "    </tr>\n",
              "    <tr>\n",
              "      <th>39</th>\n",
              "      <td>54.0</td>\n",
              "      <td>26</td>\n",
              "    </tr>\n",
              "    <tr>\n",
              "      <th>40</th>\n",
              "      <td>55.0</td>\n",
              "      <td>13</td>\n",
              "    </tr>\n",
              "    <tr>\n",
              "      <th>41</th>\n",
              "      <td>56.0</td>\n",
              "      <td>16</td>\n",
              "    </tr>\n",
              "    <tr>\n",
              "      <th>42</th>\n",
              "      <td>57.0</td>\n",
              "      <td>11</td>\n",
              "    </tr>\n",
              "    <tr>\n",
              "      <th>43</th>\n",
              "      <td>58.0</td>\n",
              "      <td>12</td>\n",
              "    </tr>\n",
              "    <tr>\n",
              "      <th>44</th>\n",
              "      <td>59.0</td>\n",
              "      <td>11</td>\n",
              "    </tr>\n",
              "    <tr>\n",
              "      <th>45</th>\n",
              "      <td>60.0</td>\n",
              "      <td>2</td>\n",
              "    </tr>\n",
              "    <tr>\n",
              "      <th>46</th>\n",
              "      <td>61.0</td>\n",
              "      <td>10</td>\n",
              "    </tr>\n",
              "    <tr>\n",
              "      <th>47</th>\n",
              "      <td>62.0</td>\n",
              "      <td>5</td>\n",
              "    </tr>\n",
              "    <tr>\n",
              "      <th>48</th>\n",
              "      <td>63.0</td>\n",
              "      <td>7</td>\n",
              "    </tr>\n",
              "    <tr>\n",
              "      <th>49</th>\n",
              "      <td>65.0</td>\n",
              "      <td>2</td>\n",
              "    </tr>\n",
              "    <tr>\n",
              "      <th>50</th>\n",
              "      <td>66.0</td>\n",
              "      <td>1</td>\n",
              "    </tr>\n",
              "    <tr>\n",
              "      <th>51</th>\n",
              "      <td>67.0</td>\n",
              "      <td>1</td>\n",
              "    </tr>\n",
              "    <tr>\n",
              "      <th>52</th>\n",
              "      <td>69.0</td>\n",
              "      <td>1</td>\n",
              "    </tr>\n",
              "    <tr>\n",
              "      <th>53</th>\n",
              "      <td>71.0</td>\n",
              "      <td>2</td>\n",
              "    </tr>\n",
              "    <tr>\n",
              "      <th>54</th>\n",
              "      <td>72.0</td>\n",
              "      <td>1</td>\n",
              "    </tr>\n",
              "    <tr>\n",
              "      <th>55</th>\n",
              "      <td>99.0</td>\n",
              "      <td>1</td>\n",
              "    </tr>\n",
              "  </tbody>\n",
              "</table>\n",
              "</div>"
            ],
            "text/plain": [
              "     Age  count\n",
              "0    NaN    287\n",
              "1   16.0      3\n",
              "2   17.0      6\n",
              "3   18.0     29\n",
              "4   19.0     78\n",
              "5   20.0    109\n",
              "6   21.0    203\n",
              "7   22.0    406\n",
              "8   23.0    581\n",
              "9   24.0    679\n",
              "10  25.0    738\n",
              "11  26.0    720\n",
              "12  27.0    724\n",
              "13  28.0    787\n",
              "14  29.0    697\n",
              "15  30.0    651\n",
              "16  31.0    531\n",
              "17  32.0    489\n",
              "18  33.0    483\n",
              "19  34.0    395\n",
              "20  35.0    393\n",
              "21  36.0    308\n",
              "22  37.0    280\n",
              "23  38.0    279\n",
              "24  39.0    232\n",
              "25  40.0    187\n",
              "26  41.0    136\n",
              "27  42.0    162\n",
              "28  43.0    100\n",
              "29  44.0     95\n",
              "30  45.0     85\n",
              "31  46.0     66\n",
              "32  47.0     68\n",
              "33  48.0     64\n",
              "34  49.0     66\n",
              "35  50.0     57\n",
              "36  51.0     29\n",
              "37  52.0     41\n",
              "38  53.0     32\n",
              "39  54.0     26\n",
              "40  55.0     13\n",
              "41  56.0     16\n",
              "42  57.0     11\n",
              "43  58.0     12\n",
              "44  59.0     11\n",
              "45  60.0      2\n",
              "46  61.0     10\n",
              "47  62.0      5\n",
              "48  63.0      7\n",
              "49  65.0      2\n",
              "50  66.0      1\n",
              "51  67.0      1\n",
              "52  69.0      1\n",
              "53  71.0      2\n",
              "54  72.0      1\n",
              "55  99.0      1"
            ]
          },
          "metadata": {},
          "execution_count": 7
        }
      ]
    },
    {
      "cell_type": "markdown",
      "metadata": {
        "id": "iuycjzH9iyxU"
      },
      "source": [
        "## Demo: How to describe a table\n"
      ]
    },
    {
      "cell_type": "code",
      "metadata": {
        "colab": {
          "base_uri": "https://localhost:8080/"
        },
        "id": "YvuoKrBRiyxU",
        "outputId": "c0f1e5d2-03cc-4713-aa5c-3bf1002ebe58"
      },
      "source": [
        "table_name = 'master'  # the table you wish to describe\n",
        "\n",
        "QUERY = \"\"\"\n",
        "SELECT sql FROM sqlite_master\n",
        "WHERE name= '{}'\n",
        "\"\"\".format(table_name)\n",
        "\n",
        "df = pd.read_sql_query(QUERY,conn)\n",
        "print(df.iat[0,0])"
      ],
      "execution_count": 8,
      "outputs": [
        {
          "output_type": "stream",
          "name": "stdout",
          "text": [
            "CREATE TABLE \"master\" (\n",
            "\"index\" INTEGER,\n",
            "  \"Respondent\" INTEGER,\n",
            "  \"MainBranch\" TEXT,\n",
            "  \"Hobbyist\" TEXT,\n",
            "  \"OpenSourcer\" TEXT,\n",
            "  \"OpenSource\" TEXT,\n",
            "  \"Employment\" TEXT,\n",
            "  \"Country\" TEXT,\n",
            "  \"Student\" TEXT,\n",
            "  \"EdLevel\" TEXT,\n",
            "  \"UndergradMajor\" TEXT,\n",
            "  \"OrgSize\" TEXT,\n",
            "  \"YearsCode\" TEXT,\n",
            "  \"Age1stCode\" TEXT,\n",
            "  \"YearsCodePro\" TEXT,\n",
            "  \"CareerSat\" TEXT,\n",
            "  \"JobSat\" TEXT,\n",
            "  \"MgrIdiot\" TEXT,\n",
            "  \"MgrMoney\" TEXT,\n",
            "  \"MgrWant\" TEXT,\n",
            "  \"JobSeek\" TEXT,\n",
            "  \"LastHireDate\" TEXT,\n",
            "  \"FizzBuzz\" TEXT,\n",
            "  \"ResumeUpdate\" TEXT,\n",
            "  \"CurrencySymbol\" TEXT,\n",
            "  \"CurrencyDesc\" TEXT,\n",
            "  \"CompTotal\" REAL,\n",
            "  \"CompFreq\" TEXT,\n",
            "  \"ConvertedComp\" REAL,\n",
            "  \"WorkWeekHrs\" REAL,\n",
            "  \"WorkRemote\" TEXT,\n",
            "  \"WorkLoc\" TEXT,\n",
            "  \"ImpSyn\" TEXT,\n",
            "  \"CodeRev\" TEXT,\n",
            "  \"CodeRevHrs\" REAL,\n",
            "  \"UnitTests\" TEXT,\n",
            "  \"PurchaseHow\" TEXT,\n",
            "  \"PurchaseWhat\" TEXT,\n",
            "  \"OpSys\" TEXT,\n",
            "  \"BlockchainOrg\" TEXT,\n",
            "  \"BlockchainIs\" TEXT,\n",
            "  \"BetterLife\" TEXT,\n",
            "  \"ITperson\" TEXT,\n",
            "  \"OffOn\" TEXT,\n",
            "  \"SocialMedia\" TEXT,\n",
            "  \"Extraversion\" TEXT,\n",
            "  \"ScreenName\" TEXT,\n",
            "  \"SOVisit1st\" TEXT,\n",
            "  \"SOVisitFreq\" TEXT,\n",
            "  \"SOFindAnswer\" TEXT,\n",
            "  \"SOTimeSaved\" TEXT,\n",
            "  \"SOHowMuchTime\" TEXT,\n",
            "  \"SOAccount\" TEXT,\n",
            "  \"SOPartFreq\" TEXT,\n",
            "  \"SOJobs\" TEXT,\n",
            "  \"EntTeams\" TEXT,\n",
            "  \"SOComm\" TEXT,\n",
            "  \"WelcomeChange\" TEXT,\n",
            "  \"Age\" REAL,\n",
            "  \"Trans\" TEXT,\n",
            "  \"Dependents\" TEXT,\n",
            "  \"SurveyLength\" TEXT,\n",
            "  \"SurveyEase\" TEXT\n",
            ")\n"
          ]
        }
      ]
    },
    {
      "cell_type": "markdown",
      "metadata": {
        "id": "NO3GjzDPiyxU"
      },
      "source": [
        "# Hands-on Lab\n"
      ]
    },
    {
      "cell_type": "markdown",
      "metadata": {
        "id": "pBE60Lj9iyxV"
      },
      "source": [
        "## Visualizing distribution of data\n"
      ]
    },
    {
      "cell_type": "markdown",
      "metadata": {
        "id": "Lm9ixPO_iyxV"
      },
      "source": [
        "### Histograms\n"
      ]
    },
    {
      "cell_type": "markdown",
      "metadata": {
        "id": "HsRVKFYDiyxV"
      },
      "source": [
        "Plot a histogram of `ConvertedComp.`\n"
      ]
    },
    {
      "cell_type": "code",
      "metadata": {
        "colab": {
          "base_uri": "https://localhost:8080/",
          "height": 354
        },
        "id": "y7r-CyLtiyxV",
        "outputId": "82b47fd5-a444-4dbb-eddd-3e602071d7a5"
      },
      "source": [
        "# your code goes here\n",
        "import matplotlib as mpl\n",
        "import matplotlib.pyplot as plt\n",
        "import numpy as np\n",
        "mpl.style.use('ggplot')\n",
        "\n",
        "QUERY = \"\"\"\n",
        "SELECT * \n",
        "FROM master\n",
        "\"\"\"\n",
        "\n",
        "df = pd.read_sql_query(QUERY, conn)\n",
        "\n",
        "df['ConvertedComp'].plot(kind='hist', figsize=(8,5))\n",
        "\n",
        "plt.title('Converted Comp')\n",
        "\n",
        "plt.ylabel('Converted Comp')\n",
        "\n",
        "plt.xlabel('Frequency')\n",
        "\n",
        "plt.show()"
      ],
      "execution_count": 9,
      "outputs": [
        {
          "output_type": "display_data",
          "data": {
            "image/png": "[encoded data removed]",
            "text/plain": [
              "<Figure size 576x360 with 1 Axes>"
            ]
          },
          "metadata": {}
        }
      ]
    },
    {
      "cell_type": "markdown",
      "metadata": {
        "id": "CHHnh3F4iyxW"
      },
      "source": [
        "### Box Plots\n"
      ]
    },
    {
      "cell_type": "markdown",
      "metadata": {
        "id": "gslMIWcZiyxW"
      },
      "source": [
        "Plot a box plot of `Age.`\n"
      ]
    },
    {
      "cell_type": "code",
      "metadata": {
        "colab": {
          "base_uri": "https://localhost:8080/",
          "height": 407
        },
        "id": "GC1Swh5siyxW",
        "outputId": "ba6f826a-d977-4d63-869f-f2e55c055935"
      },
      "source": [
        "# your code goes here\n",
        "QUERY = \"\"\"\n",
        "SELECT * \n",
        "FROM master\n",
        "\"\"\"\n",
        "df = pd.read_sql_query(QUERY, conn)\n",
        "\n",
        "df['ConvertedComp'].plot(kind='bar', figsize=(8,6))\n",
        "\n",
        "plt.show()\n"
      ],
      "execution_count": 10,
      "outputs": [
        {
          "output_type": "display_data",
          "data": {
            "image/png": "[encoded data removed]",
            "text/plain": [
              "<Figure size 576x432 with 1 Axes>"
            ]
          },
          "metadata": {}
        }
      ]
    },
    {
      "cell_type": "markdown",
      "metadata": {
        "id": "aCEOubmIiyxX"
      },
      "source": [
        "## Visualizing relationships in data\n"
      ]
    },
    {
      "cell_type": "markdown",
      "metadata": {
        "id": "xVwXYmD1iyxX"
      },
      "source": [
        "### Scatter Plots\n"
      ]
    },
    {
      "cell_type": "markdown",
      "metadata": {
        "id": "-joj9vm4iyxX"
      },
      "source": [
        "Create a scatter plot of `Age` and `WorkWeekHrs.`\n"
      ]
    },
    {
      "cell_type": "code",
      "metadata": {
        "id": "ukr7u_BDiyxX",
        "colab": {
          "base_uri": "https://localhost:8080/",
          "height": 409
        },
        "outputId": "377d5802-8bbd-4b74-f14c-586a13b4df02"
      },
      "source": [
        "# your code goes here\n",
        "QUERY = \"\"\"\n",
        "SELECT * \n",
        "FROM master\n",
        "\"\"\"\n",
        "\n",
        "df = pd.read_sql_query(QUERY, conn)\n",
        "#df[['Age', 'WorkWeekHrs']]\n",
        "df[['Age', 'WorkWeekHrs']].plot(kind='scatter', x='Age' , y='WorkWeekHrs', figsize=(10,6))"
      ],
      "execution_count": 11,
      "outputs": [
        {
          "output_type": "execute_result",
          "data": {
            "text/plain": [
              "<matplotlib.axes._subplots.AxesSubplot at 0x7f4a30f160d0>"
            ]
          },
          "metadata": {},
          "execution_count": 11
        },
        {
          "output_type": "display_data",
          "data": {
            "image/png": "[encoded data removed]",
            "text/plain": [
              "<Figure size 720x432 with 1 Axes>"
            ]
          },
          "metadata": {}
        }
      ]
    },
    {
      "cell_type": "markdown",
      "metadata": {
        "id": "nOdg6yuRiyxY"
      },
      "source": [
        "### Bubble Plots\n"
      ]
    },
    {
      "cell_type": "markdown",
      "metadata": {
        "id": "di81txTMiyxY"
      },
      "source": [
        "Create a bubble plot of `WorkWeekHrs` and `CodeRevHrs`, use `Age` column as bubble size.\n"
      ]
    },
    {
      "cell_type": "code",
      "metadata": {
        "id": "ZPVj1pWPiyxY",
        "colab": {
          "base_uri": "https://localhost:8080/",
          "height": 760
        },
        "outputId": "e06e8439-a1ef-4ef3-d561-fe0f069fd7d9"
      },
      "source": [
        "# your code goes here\n",
        "ax0 = df[['WorkWeekHrs', 'CodeRevHrs']].plot(kind='scatter',\n",
        "                                             x='WorkWeekHrs',\n",
        "                                             y='CodeRevHrs',\n",
        "                                             figsize=(14,8),\n",
        "                                             alpha=0.3,\n",
        "                                             color='red',\n",
        "                                             s=df[['Age']] * 100)\n",
        "\n",
        "print(type(df[['Age']]))\n",
        "print(df[['Age']])\n"
      ],
      "execution_count": 26,
      "outputs": [
        {
          "output_type": "stream",
          "name": "stdout",
          "text": [
            "<class 'pandas.core.frame.DataFrame'>\n",
            "        Age\n",
            "0      22.0\n",
            "1      23.0\n",
            "2      28.0\n",
            "3      26.0\n",
            "4      29.0\n",
            "...     ...\n",
            "11393  36.0\n",
            "11394  25.0\n",
            "11395  34.0\n",
            "11396  25.0\n",
            "11397  30.0\n",
            "\n",
            "[11398 rows x 1 columns]\n"
          ]
        },
        {
          "output_type": "display_data",
          "data": {
            "image/png": "[encoded data removed]",
            "text/plain": [
              "<Figure size 1008x576 with 1 Axes>"
            ]
          },
          "metadata": {}
        }
      ]
    },
    {
      "cell_type": "markdown",
      "metadata": {
        "id": "wKPdHHD1iyxY"
      },
      "source": [
        "## Visualizing composition of data\n"
      ]
    },
    {
      "cell_type": "markdown",
      "metadata": {
        "id": "LZmfITuziyxZ"
      },
      "source": [
        "### Pie Charts\n"
      ]
    },
    {
      "cell_type": "markdown",
      "metadata": {
        "id": "WVtEAcE0iyxZ"
      },
      "source": [
        "Create a pie chart of the top 5 databases that respondents wish to learn next year. Label the pie chart with database names. Display percentages of each database on the pie chart.\n"
      ]
    },
    {
      "cell_type": "code",
      "metadata": {
        "id": "gRrkrbW2iyxZ",
        "colab": {
          "base_uri": "https://localhost:8080/",
          "height": 483
        },
        "outputId": "50a152cf-dc14-4c19-c51e-bbb08738ea7f"
      },
      "source": [
        "# your code goes here\n",
        "QUERY = \"\"\"\n",
        "SELECT COUNT(DatabaseDesireNextYear) as COUNT, DatabaseDesireNextYear\n",
        "FROM DatabaseDesireNextYear\n",
        "GROUP BY DatabaseDesireNextYear\n",
        "ORDER BY COUNT(DatabaseDesireNextYear) DESC LIMIT 5\n",
        "\"\"\"\n",
        "\n",
        "df2 = pd.read_sql_query(QUERY, conn)\n",
        "df2.set_index('DatabaseDesireNextYear', inplace=True)\n",
        "\n",
        "df2.head()\n",
        "explode_list = [0.1, 0.1, 0.1, 0.1, 0.1]\n",
        "df2['COUNT'].plot(kind='pie', y=df2.index, figsize=(12,8), shadow=True, explode=explode_list, autopct='%1.1f%%')\n",
        "\n",
        "plt.title('Top 5 databases respondents want to learn next year')\n",
        "\n",
        "plt.show()\n"
      ],
      "execution_count": 46,
      "outputs": [
        {
          "output_type": "display_data",
          "data": {
            "image/png": "[encoded data removed]",
            "text/plain": [
              "<Figure size 864x576 with 1 Axes>"
            ]
          },
          "metadata": {}
        }
      ]
    },
    {
      "cell_type": "markdown",
      "metadata": {
        "id": "Kih0zZ8siyxZ"
      },
      "source": [
        "### Stacked Charts\n"
      ]
    },
    {
      "cell_type": "markdown",
      "metadata": {
        "id": "bMxf43IEiyxZ"
      },
      "source": [
        "Create a stacked chart of median `WorkWeekHrs` and `CodeRevHrs` for the age group 30 to 35.\n"
      ]
    },
    {
      "cell_type": "code",
      "metadata": {
        "id": "1uTDvC65iyxZ",
        "colab": {
          "base_uri": "https://localhost:8080/",
          "height": 633
        },
        "outputId": "d51d23e3-484b-4233-ada2-b14754bdd55e"
      },
      "source": [
        "# your code goes here\n",
        "QUERY = \"\"\"\n",
        "SELECT WorkWeekHrs, CodeRevHrs, Age\n",
        "FROM master\n",
        "WHERE Age BETWEEN 30 AND 35 GROUP BY Age\n",
        "\"\"\"\n",
        "\n",
        "df3 = pd.read_sql_query(QUERY, conn)\n",
        "\n",
        "df3.set_index('Age', inplace=True)\n",
        "\n",
        "df3.plot(kind='bar',  stacked=True, alpha=0.4, figsize=(16,8))\n",
        "\n",
        "print(df3.head())"
      ],
      "execution_count": 110,
      "outputs": [
        {
          "output_type": "stream",
          "name": "stdout",
          "text": [
            "      WorkWeekHrs  CodeRevHrs\n",
            "Age                          \n",
            "30.0         80.0         1.0\n",
            "31.0         45.0         2.0\n",
            "32.0         56.0        14.0\n",
            "33.0         40.0         4.0\n",
            "34.0         40.0         5.0\n"
          ]
        },
        {
          "output_type": "display_data",
          "data": {
            "image/png": "[encoded data removed]",
            "text/plain": [
              "<Figure size 1152x576 with 1 Axes>"
            ]
          },
          "metadata": {}
        }
      ]
    },
    {
      "cell_type": "code",
      "metadata": {
        "colab": {
          "base_uri": "https://localhost:8080/",
          "height": 237
        },
        "id": "h8qRk4MPCVCT",
        "outputId": "9d3c6570-b703-43b7-b9ac-24ff96864a16"
      },
      "source": [
        "df3.head()"
      ],
      "execution_count": 111,
      "outputs": [
        {
          "output_type": "execute_result",
          "data": {
            "text/html": [
              "<div>\n",
              "<style scoped>\n",
              "    .dataframe tbody tr th:only-of-type {\n",
              "        vertical-align: middle;\n",
              "    }\n",
              "\n",
              "    .dataframe tbody tr th {\n",
              "        vertical-align: top;\n",
              "    }\n",
              "\n",
              "    .dataframe thead th {\n",
              "        text-align: right;\n",
              "    }\n",
              "</style>\n",
              "<table border=\"1\" class=\"dataframe\">\n",
              "  <thead>\n",
              "    <tr style=\"text-align: right;\">\n",
              "      <th></th>\n",
              "      <th>WorkWeekHrs</th>\n",
              "      <th>CodeRevHrs</th>\n",
              "    </tr>\n",
              "    <tr>\n",
              "      <th>Age</th>\n",
              "      <th></th>\n",
              "      <th></th>\n",
              "    </tr>\n",
              "  </thead>\n",
              "  <tbody>\n",
              "    <tr>\n",
              "      <th>30.0</th>\n",
              "      <td>80.0</td>\n",
              "      <td>1.0</td>\n",
              "    </tr>\n",
              "    <tr>\n",
              "      <th>31.0</th>\n",
              "      <td>45.0</td>\n",
              "      <td>2.0</td>\n",
              "    </tr>\n",
              "    <tr>\n",
              "      <th>32.0</th>\n",
              "      <td>56.0</td>\n",
              "      <td>14.0</td>\n",
              "    </tr>\n",
              "    <tr>\n",
              "      <th>33.0</th>\n",
              "      <td>40.0</td>\n",
              "      <td>4.0</td>\n",
              "    </tr>\n",
              "    <tr>\n",
              "      <th>34.0</th>\n",
              "      <td>40.0</td>\n",
              "      <td>5.0</td>\n",
              "    </tr>\n",
              "  </tbody>\n",
              "</table>\n",
              "</div>"
            ],
            "text/plain": [
              "      WorkWeekHrs  CodeRevHrs\n",
              "Age                          \n",
              "30.0         80.0         1.0\n",
              "31.0         45.0         2.0\n",
              "32.0         56.0        14.0\n",
              "33.0         40.0         4.0\n",
              "34.0         40.0         5.0"
            ]
          },
          "metadata": {},
          "execution_count": 111
        }
      ]
    },
    {
      "cell_type": "markdown",
      "metadata": {
        "id": "ekXMUV71iyxa"
      },
      "source": [
        "## Visualizing comparison of data\n"
      ]
    },
    {
      "cell_type": "markdown",
      "metadata": {
        "id": "62kWXhDtiyxa"
      },
      "source": [
        "### Line Chart\n"
      ]
    },
    {
      "cell_type": "markdown",
      "metadata": {
        "id": "JWeHiz0hiyxa"
      },
      "source": [
        "Plot the median `ConvertedComp` for all ages from 45 to 60.\n"
      ]
    },
    {
      "cell_type": "code",
      "metadata": {
        "id": "vHbgdzrZiyxa",
        "colab": {
          "base_uri": "https://localhost:8080/",
          "height": 529
        },
        "outputId": "af117211-d16f-46e1-e51e-889823e36b1b"
      },
      "source": [
        "# your code goes here\n",
        "QUERY = \"\"\"\n",
        "SELECT ConvertedComp, Age\n",
        "FROM master\n",
        "WHERE Age BETWEEN 45 AND 60 GROUP BY Age\n",
        "\"\"\"\n",
        "\n",
        "df4 = pd.read_sql_query(QUERY, conn)\n",
        "\n",
        "df4.set_index('Age', inplace=True)\n",
        "\n",
        "df4.plot(kind='line',  figsize=(16,8))"
      ],
      "execution_count": 120,
      "outputs": [
        {
          "output_type": "execute_result",
          "data": {
            "text/plain": [
              "<matplotlib.axes._subplots.AxesSubplot at 0x7f49f6e9db50>"
            ]
          },
          "metadata": {},
          "execution_count": 120
        },
        {
          "output_type": "display_data",
          "data": {
            "image/png": "[encoded data removed]",
            "text/plain": [
              "<Figure size 1152x576 with 1 Axes>"
            ]
          },
          "metadata": {}
        }
      ]
    },
    {
      "cell_type": "markdown",
      "metadata": {
        "id": "4sZdUMqriyxa"
      },
      "source": [
        "### Bar Chart\n"
      ]
    },
    {
      "cell_type": "markdown",
      "metadata": {
        "id": "jAHcmlHOiyxa"
      },
      "source": [
        "Create a horizontal bar chart using column `MainBranch.`\n"
      ]
    },
    {
      "cell_type": "code",
      "metadata": {
        "id": "QAOnw6Z5iyxd",
        "colab": {
          "base_uri": "https://localhost:8080/",
          "height": 443
        },
        "outputId": "7339565b-4d20-4442-add9-bcd02a2aafcb"
      },
      "source": [
        "# your code goes here\n",
        "QUERY = \"\"\"\n",
        "SELECT  MainBranch, COUNT(MainBranch) as Count\n",
        "FROM master\n",
        "GROUP BY MainBranch\n",
        "\"\"\"\n",
        "\n",
        "df5 =  pd.read_sql_query(QUERY, conn)\n",
        "\n",
        "df5.set_index('MainBranch', inplace=True)\n",
        "\n",
        "df5.plot(y='Count', kind='barh', figsize=(16,8))\n"
      ],
      "execution_count": 138,
      "outputs": [
        {
          "output_type": "execute_result",
          "data": {
            "text/plain": [
              "<matplotlib.axes._subplots.AxesSubplot at 0x7f49ca38c8d0>"
            ]
          },
          "metadata": {},
          "execution_count": 138
        },
        {
          "output_type": "display_data",
          "data": {
            "image/png": "[encoded data removed]",
            "text/plain": [
              "<Figure size 1152x576 with 1 Axes>"
            ]
          },
          "metadata": {}
        }
      ]
    },
    {
      "cell_type": "markdown",
      "metadata": {
        "id": "Eb8-MfJNiyxd"
      },
      "source": [
        "Close the database connection.\n"
      ]
    },
    {
      "cell_type": "code",
      "metadata": {
        "id": "8UT61iEjiyxe"
      },
      "source": [
        "conn.close()"
      ],
      "execution_count": null,
      "outputs": []
    },
    {
      "cell_type": "markdown",
      "metadata": {
        "id": "4jbPTHTKiyxe"
      },
      "source": [
        "## Authors\n"
      ]
    },
    {
      "cell_type": "markdown",
      "metadata": {
        "id": "Hg2tI4AViyxe"
      },
      "source": [
        "Ramesh Sannareddy\n"
      ]
    },
    {
      "cell_type": "markdown",
      "metadata": {
        "id": "naHd_BQhiyxe"
      },
      "source": [
        "### Other Contributors\n"
      ]
    },
    {
      "cell_type": "markdown",
      "metadata": {
        "id": "yDYfzuewiyxe"
      },
      "source": [
        "Rav Ahuja\n"
      ]
    },
    {
      "cell_type": "markdown",
      "metadata": {
        "id": "X5x--sIriyxe"
      },
      "source": [
        "## Change Log\n"
      ]
    },
    {
      "cell_type": "markdown",
      "metadata": {
        "id": "qf0o0kZTiyxf"
      },
      "source": [
        "| Date (YYYY-MM-DD) | Version | Changed By        | Change Description                 |\n",
        "| ----------------- | ------- | ----------------- | ---------------------------------- |\n",
        "| 2020-10-17        | 0.1     | Ramesh Sannareddy | Created initial version of the lab |\n"
      ]
    },
    {
      "cell_type": "markdown",
      "metadata": {
        "id": "i7ovYUJ5iyxf"
      },
      "source": [
        "Copyright © 2020 IBM Corporation. This notebook and its source code are released under the terms of the [MIT License](https://cognitiveclass.ai/mit-license?utm_medium=Exinfluencer\\&utm_source=Exinfluencer\\&utm_content=000026UJ\\&utm_term=10006555\\&utm_id=NA-SkillsNetwork-Channel-SkillsNetworkCoursesIBMDA0321ENSkillsNetwork21426264-2021-01-01\\&cm_mmc=Email_Newsletter-\\_-Developer_Ed%2BTech-\\_-WW_WW-\\_-SkillsNetwork-Courses-IBM-DA0321EN-SkillsNetwork-21426264\\&cm_mmca1=000026UJ\\&cm_mmca2=10006555\\&cm_mmca3=M12345678\\&cvosrc=email.Newsletter.M12345678\\&cvo_campaign=000026UJ).\n"
      ]
    }
  ]
}